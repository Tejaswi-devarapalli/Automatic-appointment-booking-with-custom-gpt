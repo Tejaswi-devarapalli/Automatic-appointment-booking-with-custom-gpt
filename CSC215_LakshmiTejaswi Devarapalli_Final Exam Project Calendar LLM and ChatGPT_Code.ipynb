{
 "cells": [
  {
   "cell_type": "markdown",
   "metadata": {},
   "source": [
    "## Installing Required libraries"
   ]
  },
  {
   "cell_type": "code",
   "execution_count": 30,
   "metadata": {},
   "outputs": [],
   "source": [
    "# pip install langchain_community"
   ]
  },
  {
   "cell_type": "code",
   "execution_count": 31,
   "metadata": {},
   "outputs": [],
   "source": [
    "# pip install langchain"
   ]
  },
  {
   "cell_type": "code",
   "execution_count": 32,
   "metadata": {},
   "outputs": [],
   "source": [
    "# pip install tiktoken"
   ]
  },
  {
   "cell_type": "code",
   "execution_count": 33,
   "metadata": {},
   "outputs": [],
   "source": [
    "# pip install --upgrade google-api-python-client google-auth-httplib2 google-auth-oauthlib"
   ]
  },
  {
   "cell_type": "code",
   "execution_count": 34,
   "metadata": {},
   "outputs": [],
   "source": [
    "# pip install openai"
   ]
  },
  {
   "cell_type": "markdown",
   "metadata": {},
   "source": [
    "## Loading text from .txt file using langchain document loaders"
   ]
  },
  {
   "cell_type": "code",
   "execution_count": 35,
   "metadata": {},
   "outputs": [
    {
     "data": {
      "text/plain": [
       "[Document(page_content='\\nMy name is Lakshmi Tejaswi.To book an appointment in Google calendar, please select a suitable time slot from below provided time slots. Once you have chosen the date and time, Provide details like description to book the event. \\n\\nThese are my available timings to schedule the meetings. Available Timings: \\n\\nMonday, May 13, 2024: 9:00 AM - 09:30 AM,  1:00 PM - 1:30 PM, 1:30 PM - 2:00 PM. \\nTuesday, May 14, 2024: 10:00 AM - 10:30 AM,11:00 PM - 11:30 PM, 2:00 PM - 2:30 PM, 2:30 PM - 3:00 PM.\\nWednesday, May 15, 2024: 11:00 AM - 12:00 PM, 3:00 PM - 5:00 PM. \\nThursday, May 16, 2024:9:30 AM - 11:00 AM, 1:30 PM - 2:30 PM. \\nFriday, May 17, 2024: 10:30 AM - 11:00 PM, 2:30 PM - 3:00 PM, 3:00 PM - 3:30 PM.\\n\\nThank the user, after booking the appointment, mentioned the booked date, time slot and provided description at the end in the format given below:\\nDate:\\nStart time:\\nEnd time:\\nDescription:\\n\\n\\n', metadata={'source': './data.txt'})]"
      ]
     },
     "execution_count": 35,
     "metadata": {},
     "output_type": "execute_result"
    }
   ],
   "source": [
    "from langchain_community.document_loaders import TextLoader\n",
    "\n",
    "loader = TextLoader(\"./data.txt\")\n",
    "\n",
    "data = loader.load()\n",
    "\n",
    "data"
   ]
  },
  {
   "cell_type": "markdown",
   "metadata": {},
   "source": [
    "## Loading text from .docx file using langchain document loaders"
   ]
  },
  {
   "cell_type": "code",
   "execution_count": 36,
   "metadata": {},
   "outputs": [
    {
     "data": {
      "text/plain": [
       "[Document(page_content='My name is Lakshmi Tejaswi. To book an appointment in Google calendar, please select a suitable time slot from below provided time slots. Once you have chosen the date and time, Provide details like description to book the event.\\xa0\\n\\n\\n\\nThese are my available timings to schedule the meetings. Available Timings:\\xa0\\n\\n\\n\\nMonday, May 13, 2024: 9:00 AM - 09:30 AM,\\xa0 1:00 PM - 1:30 PM, 1:30 PM - 2:00 PM.\\xa0\\n\\nTuesday, May 14, 2024: 10:00 AM - 10:30 AM,11:00 PM - 11:30 PM, 2:00 PM - 2:30 PM, 2:30 PM - 3:00 PM.\\n\\nWednesday, May 15, 2024: 11:00 AM - 12:00 PM, 3:00 PM - 5:00 PM.\\xa0\\n\\nThursday, May 16, 2024:9:30 AM - 11:00 AM, 1:30 PM - 2:30 PM.\\xa0\\n\\nFriday, May 17, 2024: 10:30 AM - 11:00 PM, 2:30 PM - 3:00 PM, 3:00 PM - 3:30 PM.\\n\\nThank the user, after booking the appointment, mentioned the booked date, timeslot and provided description at the end in the format given below:\\n\\nDate:\\nStart time:\\nEnd time:\\nDescription:', metadata={'source': './data.docx'})]"
      ]
     },
     "execution_count": 36,
     "metadata": {},
     "output_type": "execute_result"
    }
   ],
   "source": [
    "from langchain_community.document_loaders import Docx2txtLoader\n",
    "\n",
    "loader = Docx2txtLoader(\"./data.docx\")\n",
    "\n",
    "data = loader.load()\n",
    "\n",
    "data"
   ]
  },
  {
   "cell_type": "markdown",
   "metadata": {},
   "source": [
    "## Google doc API to fetch text from Google doc"
   ]
  },
  {
   "cell_type": "code",
   "execution_count": 37,
   "metadata": {},
   "outputs": [
    {
     "name": "stdout",
     "output_type": "stream",
     "text": [
      "[{'endIndex': 1, 'sectionBreak': {'sectionStyle': {'columnSeparatorStyle': 'NONE', 'contentDirection': 'LEFT_TO_RIGHT', 'sectionType': 'CONTINUOUS'}}}, {'startIndex': 1, 'endIndex': 2, 'paragraph': {'elements': [{'startIndex': 1, 'endIndex': 2, 'textRun': {'content': '\\n', 'textStyle': {}}}], 'paragraphStyle': {'namedStyleType': 'NORMAL_TEXT', 'direction': 'LEFT_TO_RIGHT'}}}, {'startIndex': 2, 'endIndex': 232, 'paragraph': {'elements': [{'startIndex': 2, 'endIndex': 232, 'textRun': {'content': 'My name is Lakshmi Tejaswi.To book an appointment in Google calendar, please select a suitable time slot from below provided time slots. Once you have chosen the date and time, Provide details like description to book the event. \\n', 'textStyle': {}}}], 'paragraphStyle': {'namedStyleType': 'NORMAL_TEXT', 'direction': 'LEFT_TO_RIGHT'}}}, {'startIndex': 232, 'endIndex': 233, 'paragraph': {'elements': [{'startIndex': 232, 'endIndex': 233, 'textRun': {'content': '\\n', 'textStyle': {}}}], 'paragraphStyle': {'namedStyleType': 'NORMAL_TEXT', 'direction': 'LEFT_TO_RIGHT'}}}, {'startIndex': 233, 'endIndex': 310, 'paragraph': {'elements': [{'startIndex': 233, 'endIndex': 310, 'textRun': {'content': 'These are my available timings to schedule the meetings. Available Timings: \\n', 'textStyle': {}}}], 'paragraphStyle': {'namedStyleType': 'NORMAL_TEXT', 'direction': 'LEFT_TO_RIGHT'}}}, {'startIndex': 310, 'endIndex': 311, 'paragraph': {'elements': [{'startIndex': 310, 'endIndex': 311, 'textRun': {'content': '\\n', 'textStyle': {}}}], 'paragraphStyle': {'namedStyleType': 'NORMAL_TEXT', 'direction': 'LEFT_TO_RIGHT'}}}, {'startIndex': 311, 'endIndex': 393, 'paragraph': {'elements': [{'startIndex': 311, 'endIndex': 393, 'textRun': {'content': 'Monday, May 13, 2024: 9:00 AM - 09:30 AM,  1:00 PM - 1:30 PM, 1:30 PM - 2:00 PM. \\n', 'textStyle': {}}}], 'paragraphStyle': {'namedStyleType': 'NORMAL_TEXT', 'direction': 'LEFT_TO_RIGHT'}}}, {'startIndex': 393, 'endIndex': 495, 'paragraph': {'elements': [{'startIndex': 393, 'endIndex': 495, 'textRun': {'content': 'Tuesday, May 14, 2024: 10:00 AM - 10:30 AM,11:00 PM - 11:30 PM, 2:00 PM - 2:30 PM, 2:30 PM - 3:00 PM.\\n', 'textStyle': {}}}], 'paragraphStyle': {'namedStyleType': 'NORMAL_TEXT', 'direction': 'LEFT_TO_RIGHT'}}}, {'startIndex': 495, 'endIndex': 561, 'paragraph': {'elements': [{'startIndex': 495, 'endIndex': 561, 'textRun': {'content': 'Wednesday, May 15, 2024: 11:00 AM - 12:00 PM, 3:00 PM - 5:00 PM. \\n', 'textStyle': {}}}], 'paragraphStyle': {'namedStyleType': 'NORMAL_TEXT', 'direction': 'LEFT_TO_RIGHT'}}}, {'startIndex': 561, 'endIndex': 624, 'paragraph': {'elements': [{'startIndex': 561, 'endIndex': 624, 'textRun': {'content': 'Thursday, May 16, 2024:9:30 AM - 11:00 AM, 1:30 PM - 2:30 PM. \\n', 'textStyle': {}}}], 'paragraphStyle': {'namedStyleType': 'NORMAL_TEXT', 'direction': 'LEFT_TO_RIGHT'}}}, {'startIndex': 624, 'endIndex': 911, 'paragraph': {'elements': [{'startIndex': 624, 'endIndex': 911, 'textRun': {'content': 'Friday, May 17, 2024: 10:30 AM - 11:00 PM, 2:30 PM - 3:00 PM, 3:00 PM - 3:30 PM.\\x0b\\x0bAppointments should be booked only from available timings. Thank the user, after booking the appointment, mentioned the booked date, timeslot and provided description at the end in the format given below:\\n', 'textStyle': {}}}], 'paragraphStyle': {'namedStyleType': 'NORMAL_TEXT', 'direction': 'LEFT_TO_RIGHT'}}}, {'startIndex': 911, 'endIndex': 952, 'paragraph': {'elements': [{'startIndex': 911, 'endIndex': 952, 'textRun': {'content': 'Date:\\x0bStart time:\\x0bEnd time:\\x0bDescription:\\n', 'textStyle': {}}}], 'paragraphStyle': {'namedStyleType': 'NORMAL_TEXT', 'direction': 'LEFT_TO_RIGHT'}}}, {'startIndex': 952, 'endIndex': 953, 'paragraph': {'elements': [{'startIndex': 952, 'endIndex': 953, 'textRun': {'content': '\\n', 'textStyle': {}}}], 'paragraphStyle': {'namedStyleType': 'NORMAL_TEXT', 'direction': 'LEFT_TO_RIGHT'}}}]\n"
     ]
    }
   ],
   "source": [
    "# Google doc API python code reffered from: https://developers.google.com/docs/api/quickstart/python\n",
    "import os.path\n",
    "\n",
    "from google.auth.transport.requests import Request\n",
    "from google.oauth2.credentials import Credentials\n",
    "from google_auth_oauthlib.flow import InstalledAppFlow\n",
    "from googleapiclient.discovery import build\n",
    "from googleapiclient.errors import HttpError\n",
    "\n",
    "# If modifying these scopes, delete the file token.json.\n",
    "SCOPES = [\"https://www.googleapis.com/auth/documents.readonly\"]\n",
    "\n",
    "# The ID of a sample document.\n",
    "DOCUMENT_ID = \"1J1mKOIcpkKxb4aNsHhGZxoUrXVj7spgi0vubFjuCTo4\"\n",
    "\n",
    "# 'Credential.json' file should present in the folder. Use your own credentials.json file.\n",
    "# Credentials can be created in https://console.cloud.google.com/apis/credentials\n",
    "creds = None\n",
    "# The file token.json stores the user's access and refresh tokens, and is\n",
    "# created automatically when the authorization flow completes for the first\n",
    "# time.\n",
    "if os.path.exists(\"token.json\"):\n",
    "  creds = Credentials.from_authorized_user_file(\"token.json\", SCOPES)\n",
    "# If there are no (valid) credentials available, let the user log in.\n",
    "if not creds or not creds.valid:\n",
    "  if creds and creds.expired and creds.refresh_token:\n",
    "    creds.refresh(Request())\n",
    "  else:\n",
    "    flow = InstalledAppFlow.from_client_secrets_file(\n",
    "        \"credentials.json\", SCOPES\n",
    "    )\n",
    "    creds = flow.run_local_server(port=0)\n",
    "  # Save the credentials for the next run\n",
    "  with open(\"token.json\", \"w\") as token:\n",
    "    token.write(creds.to_json())\n",
    "\n",
    "try:\n",
    "  service = build(\"docs\", \"v1\", credentials=creds)\n",
    "\n",
    "  # Retrieve the documents contents from the Docs service.\n",
    "  document = service.documents().get(documentId=DOCUMENT_ID).execute()\n",
    "\n",
    "  print(f\"{document.get('body').get('content')}\")\n",
    "except HttpError as err:\n",
    "  print(err)\n",
    "\n"
   ]
  },
  {
   "cell_type": "code",
   "execution_count": 38,
   "metadata": {},
   "outputs": [
    {
     "name": "stdout",
     "output_type": "stream",
     "text": [
      "\n",
      "My name is Lakshmi Tejaswi.To book an appointment in Google calendar, please select a suitable time slot from below provided time slots. Once you have chosen the date and time, Provide details like description to book the event. \n",
      "\n",
      "These are my available timings to schedule the meetings. Available Timings: \n",
      "\n",
      "Monday, May 13, 2024: 9:00 AM - 09:30 AM,  1:00 PM - 1:30 PM, 1:30 PM - 2:00 PM. \n",
      "Tuesday, May 14, 2024: 10:00 AM - 10:30 AM,11:00 PM - 11:30 PM, 2:00 PM - 2:30 PM, 2:30 PM - 3:00 PM.\n",
      "Wednesday, May 15, 2024: 11:00 AM - 12:00 PM, 3:00 PM - 5:00 PM. \n",
      "Thursday, May 16, 2024:9:30 AM - 11:00 AM, 1:30 PM - 2:30 PM. \n",
      "Friday, May 17, 2024: 10:30 AM - 11:00 PM, 2:30 PM - 3:00 PM, 3:00 PM - 3:30 PM.\u000b\u000bAppointments should be booked only from available timings. Thank the user, after booking the appointment, mentioned the booked date, timeslot and provided description at the end in the format given below:\n",
      "Date:\u000bStart time:\u000bEnd time:\u000bDescription:\n",
      "\n",
      "\n"
     ]
    }
   ],
   "source": [
    "content = ''\n",
    "for element in document.get('body').get('content'):\n",
    "    if 'paragraph' in element:\n",
    "        content += element['paragraph']['elements'][0]['textRun']['content']\n",
    "\n",
    "print(content)"
   ]
  },
  {
   "cell_type": "markdown",
   "metadata": {},
   "source": [
    "## Saving Google doc text into a local text file"
   ]
  },
  {
   "cell_type": "code",
   "execution_count": 39,
   "metadata": {},
   "outputs": [],
   "source": [
    "file = open('googledoctext.txt', 'w') \n",
    "file.write(content) \n",
    "file.close() "
   ]
  },
  {
   "cell_type": "markdown",
   "metadata": {},
   "source": [
    "## Creating our own chatgpt based on the data in our document"
   ]
  },
  {
   "cell_type": "code",
   "execution_count": 49,
   "metadata": {},
   "outputs": [
    {
     "name": "stdout",
     "output_type": "stream",
     "text": [
      "Question:\n",
      "I would like to book an appointment, what are available timings?\n",
      "Answer:\n",
      "Thank you for your interest in booking an appointment. Here are the available timings for scheduling a meeting:\n",
      "\n",
      "Monday, May 13, 2024: 9:00 AM - 09:30 AM, 1:00 PM - 1:30 PM, 1:30 PM - 2:00 PM.\n",
      "Tuesday, May 14, 2024: 10:00 AM - 10:30 AM, 11:00 PM - 11:30 PM, 2:00 PM - 2:30 PM, 2:30 PM - 3:00 PM.\n",
      "Wednesday, May 15, 2024: 11:00 AM - 12:00 PM, 3:00 PM - 5:00 PM.\n",
      "Thursday, May 16, 2024: 9:30 AM - 11:00 AM, 1:30 PM - 2:30 PM.\n",
      "Friday, May 17, 2024: 10:30 AM - 11:00 PM, 2:30 PM - 3:00 PM, 3:00 PM - 3:30 PM.\n",
      "\n",
      "Please choose a suitable time slot from the provided options, and let me know the date, start time, end time, and description for the appointment you'd like to book. Thank you!\n",
      "Question:\n",
      "book on 13th may from 3:00  to 4:00 PM for AI exam\n",
      "Answer:\n",
      "I apologize, but the available time slots for May 13, 2024, are 9:00 AM - 09:30 AM, 1:00 PM - 1:30 PM, and 1:30 PM - 2:00 PM. Please choose a time within these slots for the appointment. Thank you.\n",
      "Question:\n",
      "Ok, book on 13th may from 9:00  to 9:30 AM for AI exam\n",
      "Answer:\n",
      "Thank you for booking the appointment!\n",
      "\n",
      "Date: May 13, 2024  \n",
      "Start time: 9:00 AM  \n",
      "End time: 9:30 AM  \n",
      "Description: AI exam\n"
     ]
    }
   ],
   "source": [
    "import os\n",
    "import sys\n",
    "import warnings\n",
    "\n",
    "# from constants import APIKEY\n",
    "\n",
    "from langchain_community.document_loaders import TextLoader\n",
    "from langchain_community.document_loaders import Docx2txtLoader\n",
    "from langchain_community.document_loaders import DirectoryLoader\n",
    "from langchain.indexes import VectorstoreIndexCreator\n",
    "from langchain_community.llms import openai\n",
    "from langchain_community.chat_models import ChatOpenAI\n",
    "warnings.filterwarnings(\"ignore\")\n",
    "from langchain.embeddings import OpenAIEmbeddings\n",
    "\n",
    "\n",
    "# Open AI API key can be found in https://platform.openai.com/api-keys\n",
    "os.environ[\"OPENAI_API_KEY\"] = \"provide your own Open AI API key\"\n",
    "\n",
    "\n",
    "# Create an OpenAI embedding object\n",
    "embeddings = OpenAIEmbeddings()\n",
    "while 1:\n",
    "    query = input(\"Enter your prompt: (Give 'Exit' as input to exit chat)\")\n",
    "    if query.lower() == 'exit':\n",
    "        break\n",
    "\n",
    "    loader = TextLoader('./googledoctext.txt')\n",
    "    index = VectorstoreIndexCreator(embedding=embeddings).from_loaders([loader])\n",
    "\n",
    "\n",
    "    print(\"Question:\")\n",
    "    print(query)\n",
    "    print('Answer:')\n",
    "    msg = index.query(query, llm = ChatOpenAI())\n",
    "    print(msg)"
   ]
  },
  {
   "cell_type": "markdown",
   "metadata": {},
   "source": [
    "## Taking the Date, time, description from above chat to book an appointment"
   ]
  },
  {
   "cell_type": "code",
   "execution_count": 50,
   "metadata": {},
   "outputs": [
    {
     "name": "stdout",
     "output_type": "stream",
     "text": [
      "Date: May 13, 2024  \n",
      "Start time: 9:00 AM  \n",
      "End time: 9:30 AM  \n",
      "Description: AI exam\n"
     ]
    }
   ],
   "source": [
    "import re\n",
    "\n",
    "message = msg\n",
    "# Regular expressions to extract information\n",
    "date_pattern = r\"Date: ([^\\n]+)\"\n",
    "start_time_pattern = r\"Start time: ([^\\n]+)\"\n",
    "end_time_pattern = r\"End time: ([^\\n]+)\"\n",
    "description_pattern = r\"Description: ([^\\n]+)\"\n",
    "\n",
    "# Extracting information using regular expressions\n",
    "date_match = re.search(date_pattern, message)\n",
    "start_time_match = re.search(start_time_pattern, message)\n",
    "end_time_match = re.search(end_time_pattern, message)\n",
    "description_match = re.search(description_pattern, message)\n",
    "\n",
    "if date_match and start_time_match and end_time_match and description_match:\n",
    "    date = date_match.group(1)\n",
    "    start_time = start_time_match.group(1)\n",
    "    end_time = end_time_match.group(1)\n",
    "    description = description_match.group(1)\n",
    "\n",
    "    print(\"Date:\", date)\n",
    "    print(\"Start time:\", start_time)\n",
    "    print(\"End time:\", end_time)\n",
    "    print(\"Description:\", description)\n",
    "else:\n",
    "    print(\"Information not found in the message.\")\n"
   ]
  },
  {
   "cell_type": "markdown",
   "metadata": {},
   "source": [
    "## Converting time to ISO format"
   ]
  },
  {
   "cell_type": "code",
   "execution_count": 51,
   "metadata": {},
   "outputs": [
    {
     "name": "stdout",
     "output_type": "stream",
     "text": [
      "Start Time: 2024-05-13T09:00:00-0700\n",
      "End Time: 2024-05-13T09:30:00-0700\n"
     ]
    }
   ],
   "source": [
    "from datetime import datetime\n",
    "import pytz #library for working with timezones\n",
    "\n",
    "given_date_str = date.strip()\n",
    "given_start_time_str = start_time.strip()\n",
    "given_end_time_str = end_time.strip()\n",
    "\n",
    "# Parse the given date string. example date format for May 15, 2024 after parsing: 2024-05-15 00:00:00\n",
    "# %B represents the full month name, %d represents the day of the month, and %Y represents the four-digit year.\n",
    "given_date = datetime.strptime(given_date_str, \"%B %d, %Y\") \n",
    "\n",
    "# Parse the given start time string. example time  format for 9:00 AM after parsing: 1900-01-01 09:00:00\n",
    "# where %I represents the hour, %M represents the minute, and %p represents the AM/PM indicator.\n",
    "given_start_time = datetime.strptime(given_start_time_str, \"%I:%M %p\")\n",
    "\n",
    "# Parse the given start time string.example time  format for 5:00 PM after parsing: 1900-01-01 17:00:00\n",
    "# where %I represents the hour, %M represents the minute, and %p represents the AM/PM indicator.\n",
    "given_end_time = datetime.strptime(given_end_time_str, \"%I:%M %p\")\n",
    "\n",
    "# Combine date and time to form datetime objects\n",
    "start_datetime = given_date.replace(hour=given_start_time.hour, minute=given_start_time.minute)\n",
    "end_datetime = given_date.replace(hour=given_end_time.hour, minute=given_end_time.minute)\n",
    "\n",
    "# Assuming the timezone is Pacific Time (PT, UTC-7)\n",
    "pt_timezone = pytz.timezone('America/Los_Angeles')\n",
    "\n",
    "# Localize the start and end datetime objects to Pacific Time\n",
    "start_datetime_pt = pt_timezone.localize(start_datetime)\n",
    "end_datetime_pt = pt_timezone.localize(end_datetime)\n",
    "\n",
    "# Convert the localized datetime objects to ISO 8601 format\n",
    "iso_start_time_str = start_datetime_pt.strftime(\"%Y-%m-%dT%H:%M:%S%z\")\n",
    "iso_end_time_str = end_datetime_pt.strftime(\"%Y-%m-%dT%H:%M:%S%z\")\n",
    "\n",
    "print(\"Start Time:\", iso_start_time_str)\n",
    "print(\"End Time:\", iso_end_time_str)"
   ]
  },
  {
   "cell_type": "markdown",
   "metadata": {},
   "source": [
    "## Google calender API to book appointment"
   ]
  },
  {
   "cell_type": "code",
   "execution_count": 53,
   "metadata": {},
   "outputs": [
    {
     "name": "stdout",
     "output_type": "stream",
     "text": [
      "Event created: https://www.google.com/calendar/event?eid=MnN2YThya2kyamF2MTRuZTljMnBnYmg5OGcgdGVqYXN3aTE5OTg3NUBt\n"
     ]
    }
   ],
   "source": [
    "import datetime\n",
    "import os.path\n",
    "\n",
    "from google.auth.transport.requests import Request\n",
    "from google.oauth2.credentials import Credentials\n",
    "from google_auth_oauthlib.flow import InstalledAppFlow\n",
    "from googleapiclient.discovery import build\n",
    "from googleapiclient.errors import HttpError\n",
    "\n",
    "# If modifying these scopes, delete the file token.json.\n",
    "SCOPES = [\"https://www.googleapis.com/auth/calendar.readonly\", 'https://www.googleapis.com/auth/calendar']\n",
    "\n",
    "\n",
    "creds = None\n",
    "# The file token.json stores the user's access and refresh tokens, and is\n",
    "# created automatically when the authorization flow completes for the first\n",
    "# time.\n",
    "if os.path.exists(\"token_calender.json\"):\n",
    "  creds = Credentials.from_authorized_user_file(\"token_calender.json\", SCOPES)\n",
    "# If there are no (valid) credentials available, let the user log in.\n",
    "if not creds or not creds.valid:\n",
    "  if creds and creds.expired and creds.refresh_token:\n",
    "    creds.refresh(Request())\n",
    "  else:\n",
    "    flow = InstalledAppFlow.from_client_secrets_file(\n",
    "        \"credentials.json\", SCOPES\n",
    "    )\n",
    "    creds = flow.run_local_server(port=0)\n",
    "  # Save the credentials for the next run\n",
    "  with open(\"token_calender.json\", \"w\") as token:\n",
    "    token.write(creds.to_json())\n",
    "\n",
    "try:\n",
    "  service_calender = build(\"calendar\", \"v3\", credentials=creds)\n",
    "  \n",
    "  event = {\n",
    "    'summary': description,\n",
    "    'start': {\n",
    "      'dateTime': iso_start_time_str,\n",
    "      'timeZone': 'America/Los_Angeles',\n",
    "    },\n",
    "    'end': {\n",
    "      'dateTime': iso_end_time_str,\n",
    "      'timeZone': 'America/Los_Angeles',\n",
    "    },\n",
    "    'reminders': {\n",
    "      'useDefault': False,\n",
    "      'overrides': [\n",
    "        {'method': 'email', 'minutes': 24 * 60},\n",
    "        {'method': 'popup', 'minutes': 10},\n",
    "      ],\n",
    "    },\n",
    "  }\n",
    "\n",
    "  event = service_calender.events().insert(calendarId='primary', body=event).execute()\n",
    "  print ('Event created: %s' % (event.get('htmlLink')))\n",
    "\n",
    "\n",
    "except HttpError as error:\n",
    "  print(f\"An error occurred: {error}\")\n"
   ]
  }
 ],
 "metadata": {
  "kernelspec": {
   "display_name": "virtual_env",
   "language": "python",
   "name": "python3"
  },
  "language_info": {
   "codemirror_mode": {
    "name": "ipython",
    "version": 3
   },
   "file_extension": ".py",
   "mimetype": "text/x-python",
   "name": "python",
   "nbconvert_exporter": "python",
   "pygments_lexer": "ipython3",
   "version": "3.11.5"
  },
  "orig_nbformat": 4
 },
 "nbformat": 4,
 "nbformat_minor": 2
}
